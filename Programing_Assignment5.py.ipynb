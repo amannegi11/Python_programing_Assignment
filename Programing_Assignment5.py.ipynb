{
 "cells": [
  {
   "cell_type": "code",
   "execution_count": 1,
   "id": "88427669",
   "metadata": {},
   "outputs": [
    {
     "name": "stdout",
     "output_type": "stream",
     "text": [
      "The LCM of 2,3 is 6\n",
      "The LCM of 11,19 is 209\n",
      "The LCM of 4,77 is 308\n"
     ]
    }
   ],
   "source": [
    "# 1. Write a Python Program to Find LCM?\n",
    "def get_lcm(x,y):\n",
    "    if x > y:\n",
    "        greater = x\n",
    "    else:\n",
    "        greater = y\n",
    "    while True:\n",
    "        if((greater%x== 0) and (greater%y == 0)):\n",
    "            lcm = greater\n",
    "            break\n",
    "        else:\n",
    "            greater +=1\n",
    "    print(f'The LCM of {x},{y} is {lcm}')\n",
    "\n",
    "    \n",
    "get_lcm(2,3)\n",
    "get_lcm(11,19)\n",
    "get_lcm(4,77)"
   ]
  },
  {
   "cell_type": "code",
   "execution_count": 2,
   "id": "c8a0a77c",
   "metadata": {},
   "outputs": [
    {
     "name": "stdout",
     "output_type": "stream",
     "text": [
      "The HCF of 4,24 is 4\n",
      "The HCF of 5,7 is 1\n",
      "The HCF of 10,43 is 1\n"
     ]
    }
   ],
   "source": [
    "# 2. Write a Python Program to Find HCF?\n",
    "def findTheHcf(x_term,y_term):\n",
    "    if x_term>y_term:\n",
    "        smaller = y_term\n",
    "    else:\n",
    "        smaller = x_term\n",
    "    for ele in range(1,smaller+1):\n",
    "        if((x_term%ele == 0) and (y_term%ele == 0)):\n",
    "            hcf = ele\n",
    "    print(f'The HCF of {x_term},{y_term} is {hcf}')\n",
    "\n",
    "\n",
    "    \n",
    "# Calling the function    \n",
    "findTheHcf(4,24)\n",
    "findTheHcf(5,7)\n",
    "findTheHcf(10,43)"
   ]
  },
  {
   "cell_type": "code",
   "execution_count": 3,
   "id": "58454819",
   "metadata": {},
   "outputs": [
    {
     "name": "stdout",
     "output_type": "stream",
     "text": [
      "Enter a Number: 11\n",
      "Binary Number : 0b1011\n",
      "Octal Number : 0o13\n",
      "Hexadecimal Number : 0xb\n"
     ]
    }
   ],
   "source": [
    "#3. Write a Python Program to Convert Decimal to Binary, Octal and Hexadecimal?\n",
    "\n",
    "# Taking user input\n",
    "num = int(input('Enter a Number: '))\n",
    "\n",
    "# Defining the function\n",
    "def DecimalTo_Other(num):\n",
    "    print(f'Binary Number : {bin(num)}')\n",
    "    print(f'Octal Number : {oct(num)}')    \n",
    "    print(f'Hexadecimal Number : {hex(num)}')    \n",
    "\n",
    "# Calling the function\n",
    "DecimalTo_Other(num)"
   ]
  },
  {
   "cell_type": "code",
   "execution_count": 4,
   "id": "654038b7",
   "metadata": {},
   "outputs": [
    {
     "name": "stdout",
     "output_type": "stream",
     "text": [
      "Enter a Character: /\n",
      "ASCII Character of / is: 47\n"
     ]
    }
   ],
   "source": [
    "#4. Write a Python Program To Find ASCII value of a character?\n",
    "\n",
    "# Taking user input\n",
    "char = input('Enter a Character: ')\n",
    "\n",
    "# Defining the function\n",
    "def charToAscii(char):\n",
    "    if len(char) > 1:\n",
    "        print('Please Enter a Single Character')\n",
    "    else:\n",
    "        n = ord(char)\n",
    "    return n\n",
    "\n",
    "\n",
    "# Calling the function        \n",
    "n = charToAscii(char)\n",
    "print(f'ASCII Character of {char} is: {n}')"
   ]
  },
  {
   "cell_type": "code",
   "execution_count": 5,
   "id": "dde4055b",
   "metadata": {},
   "outputs": [
    {
     "name": "stdout",
     "output_type": "stream",
     "text": [
      "Select a Arithmetic Operation:         \n",
      "1.Addition(+)        \n",
      "2.Subtraction(-)        \n",
      "2.Multiplication(*)        \n",
      "4.Division(/)        \n",
      "3.Stop(0)\n",
      "\n",
      "\n",
      "Enter an arithmetic operation : +\n",
      "\n",
      "Enter the 1st number: 1\n",
      "Enter the 2nd number: 6\n",
      "1+6 = 7\n",
      "\n",
      "Enter an arithmetic operation : 7\n",
      "Please enter a valid operator.\n",
      "\n",
      "Enter an arithmetic operation : /\n",
      "\n",
      "Enter the 1st number: 7\n",
      "Enter the 2nd number: 7\n",
      "7/7 = 1.0\n",
      "\n",
      "Enter an arithmetic operation : -\n",
      "\n",
      "Enter the 1st number: 2\n",
      "Enter the 2nd number: 1\n",
      "2-1 = 1\n",
      "\n",
      "Enter an arithmetic operation : *\n",
      "\n",
      "Enter the 1st number: 4\n",
      "Enter the 2nd number: 4\n",
      "4*4 = 16\n",
      "\n",
      "Enter an arithmetic operation : 0\n",
      "\n",
      "Program Stopped successfully.\n"
     ]
    }
   ],
   "source": [
    "#5. Write a Python Program to Make a Simple Calculator with 4 basic mathematical operations?\n",
    "# Importing module\n",
    "import operator\n",
    "\n",
    "# Creating dictionary to assign the operations to the signs\n",
    "ops = { \"+\": operator.add, \"-\": operator.sub, \"*\":operator.mul, \"/\":operator.truediv } \n",
    "\n",
    "# Giving direction regarding different operations\n",
    "print('Select a Arithmetic Operation: \\\n",
    "        \\n1.Addition(+)\\\n",
    "        \\n2.Subtraction(-)\\\n",
    "        \\n2.Multiplication(*)\\\n",
    "        \\n4.Division(/)\\\n",
    "        \\n3.Stop(0)\\n')\n",
    "\n",
    "# Creating the logic to do the arithmetic operations\n",
    "while True:\n",
    "    operator = input('\\nEnter an arithmetic operation : ')\n",
    "    if operator == '0':\n",
    "        print(\"\\nProgram Stopped successfully.\")\n",
    "        break\n",
    "    elif operator not in ['+','-','*','/']:\n",
    "        print(\"Please enter a valid operator.\")\n",
    "    else:\n",
    "        num_1 = int(input('\\nEnter the 1st number: '))\n",
    "        num_2 = int(input('Enter the 2nd number: '))\n",
    "        print(f\"{num_1}{operator}{num_2} = {ops[operator](num_1, num_2)}\")"
   ]
  }
 ],
 "metadata": {
  "kernelspec": {
   "display_name": "Python 3 (ipykernel)",
   "language": "python",
   "name": "python3"
  },
  "language_info": {
   "codemirror_mode": {
    "name": "ipython",
    "version": 3
   },
   "file_extension": ".py",
   "mimetype": "text/x-python",
   "name": "python",
   "nbconvert_exporter": "python",
   "pygments_lexer": "ipython3",
   "version": "3.9.12"
  }
 },
 "nbformat": 4,
 "nbformat_minor": 5
}
